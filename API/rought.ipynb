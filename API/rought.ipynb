{
 "cells": [
  {
   "cell_type": "code",
   "execution_count": 14,
   "metadata": {},
   "outputs": [],
   "source": [
    "def rotate(arr):\n",
    "    for i in range(len(arr)):\n",
    "        for j in range(i):\n",
    "            arr[i][j],arr[j][i] = arr[j][i],arr[i][j]\n",
    "    print(arr)"
   ]
  },
  {
   "cell_type": "code",
   "execution_count": 48,
   "metadata": {},
   "outputs": [],
   "source": [
    "def binarySearch(arr,target):\n",
    "    low = 0 \n",
    "    high = len(arr)-1\n",
    "    while low<=high:\n",
    "        mid = (low+high)//2\n",
    "        if arr[mid]==target:return mid\n",
    "        if arr[mid]>target:high=mid-1\n",
    "        else:low=mid+1\n",
    "    return -1 "
   ]
  },
  {
   "cell_type": "code",
   "execution_count": 49,
   "metadata": {},
   "outputs": [
    {
     "data": {
      "text/plain": [
       "-1"
      ]
     },
     "execution_count": 49,
     "metadata": {},
     "output_type": "execute_result"
    }
   ],
   "source": [
    "binarySearch([-1,0,3],2)"
   ]
  },
  {
   "cell_type": "code",
   "execution_count": 23,
   "metadata": {},
   "outputs": [],
   "source": [
    "def merge(arr,start,mid,end):\n",
    "    inv=0\n",
    "    temp= [] \n",
    "    i = start\n",
    "    j = mid\n",
    "    while i<mid and j<end: \n",
    "        if arr[i]<=arr[j]:\n",
    "            temp.append(arr[i])\n",
    "            i+=1\n",
    "        else:\n",
    "            inv += mid-i+1\n",
    "            temp.append(arr[j])\n",
    "            j+=1 \n",
    "    while i<mid:\n",
    "        temp.append(arr[i])\n",
    "        i+=1\n",
    "    while j<end:\n",
    "        temp.append(arr[j])\n",
    "        j+=1\n",
    "    k = 0\n",
    "    for i in range(start,end):\n",
    "        arr[i]=temp[k]\n",
    "        k+=1\n",
    "    return inv\n",
    "\n",
    "def mergeSort(arr,start,end):\n",
    "    inv = 0 \n",
    "    if start>=end:\n",
    "        return inv\n",
    "    mid = (start+end)//2\n",
    "    inv+=mergeSort(arr,start,mid)\n",
    "    inv+=mergeSort(arr,mid+1,end)\n",
    "    inv+=merge(arr,start,mid,end)\n",
    "    return inv"
   ]
  },
  {
   "cell_type": "code",
   "execution_count": 26,
   "metadata": {},
   "outputs": [
    {
     "data": {
      "text/plain": [
       "0"
      ]
     },
     "execution_count": 26,
     "metadata": {},
     "output_type": "execute_result"
    }
   ],
   "source": [
    "arr = []\n",
    "mergeSort(arr,0,0)"
   ]
  },
  {
   "cell_type": "code",
   "execution_count": 20,
   "metadata": {},
   "outputs": [
    {
     "data": {
      "text/plain": [
       "[1, 1, 2, 2, 3, 3]"
      ]
     },
     "execution_count": 20,
     "metadata": {},
     "output_type": "execute_result"
    }
   ],
   "source": [
    "arr"
   ]
  },
  {
   "cell_type": "code",
   "execution_count": null,
   "metadata": {},
   "outputs": [],
   "source": []
  }
 ],
 "metadata": {
  "kernelspec": {
   "display_name": "Python 3",
   "language": "python",
   "name": "python3"
  },
  "language_info": {
   "codemirror_mode": {
    "name": "ipython",
    "version": 3
   },
   "file_extension": ".py",
   "mimetype": "text/x-python",
   "name": "python",
   "nbconvert_exporter": "python",
   "pygments_lexer": "ipython3",
   "version": "3.11.2"
  },
  "orig_nbformat": 4
 },
 "nbformat": 4,
 "nbformat_minor": 2
}
